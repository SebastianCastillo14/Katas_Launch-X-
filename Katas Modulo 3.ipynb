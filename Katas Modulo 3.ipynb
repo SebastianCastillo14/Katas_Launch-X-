{
 "cells": [
  {
   "cell_type": "markdown",
   "metadata": {},
   "source": [
    "# Modulo 3 Katas"
   ]
  },
  {
   "cell_type": "code",
   "execution_count": null,
   "metadata": {},
   "outputs": [],
   "source": [
    "a = 49\n",
    "if a >= 25:\n",
    "    print(\"alerta!\")\n",
    "else: \n",
    "    print(\" todo bien!\")"
   ]
  },
  {
   "cell_type": "code",
   "execution_count": null,
   "metadata": {},
   "outputs": [],
   "source": [
    "a = 19\n",
    "if a >= 20:\n",
    "    print(\"mira el cielo\")\n",
    "else: \n",
    "    print(\"buen día\")"
   ]
  },
  {
   "cell_type": "code",
   "execution_count": null,
   "metadata": {},
   "outputs": [],
   "source": [
    "a = 25\n",
    "b = 40\n",
    "if a >= 25 and b >= 1000:\n",
    "    print(\"Alerta!\")\n",
    "elif a >= 20:\n",
    "    print(\"mira al cielo\")\n",
    "elif b < 25:\n",
    "    print(\"buen día\")\n",
    "else:\n",
    "    print(\"buen día\")"
   ]
  }
 ],
 "metadata": {
  "interpreter": {
   "hash": "29aa2e3870ee18aa22cea007223e40c1750657aa2080b346bd1fdd7111f60709"
  },
  "kernelspec": {
   "display_name": "Python 3.9.10 64-bit (windows store)",
   "language": "python",
   "name": "python3"
  },
  "language_info": {
   "name": "python",
   "version": "3.9.10"
  },
  "orig_nbformat": 4
 },
 "nbformat": 4,
 "nbformat_minor": 2
}
