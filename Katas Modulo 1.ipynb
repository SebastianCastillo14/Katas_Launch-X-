{
 "cells": [
  {
   "cell_type": "markdown",
   "metadata": {},
   "source": [
    "# Modulo 1 Katas"
   ]
  },
  {
   "cell_type": "markdown",
   "metadata": {},
   "source": [
    "### Programa fecha"
   ]
  },
  {
   "cell_type": "code",
   "execution_count": 1,
   "metadata": {},
   "outputs": [
    {
     "name": "stdout",
     "output_type": "stream",
     "text": [
      "today´s is: 2022-02-09\n"
     ]
    }
   ],
   "source": [
    "from datetime import date\n",
    "print(\"today´s is: \" + str(date.today()))"
   ]
  },
  {
   "cell_type": "markdown",
   "metadata": {},
   "source": [
    "### Convertidor de Unidades"
   ]
  },
  {
   "cell_type": "code",
   "execution_count": 2,
   "metadata": {},
   "outputs": [
    {
     "name": "stdout",
     "output_type": "stream",
     "text": [
      "11 parsec, is35.877159999999996Lightyears\n"
     ]
    }
   ],
   "source": [
    "parsec = 11\n",
    "lightyears = 3.26156 * parsec\n",
    "print(str(parsec) + \" parsec, is\" + str(lightyears) + \"Lightyears\")"
   ]
  },
  {
   "cell_type": "markdown",
   "metadata": {},
   "source": [
    "### Mini programa propuesto escalable"
   ]
  },
  {
   "cell_type": "code",
   "execution_count": null,
   "metadata": {},
   "outputs": [],
   "source": [
    "from datetime import date\n",
    "print (\"Oficial superior - ¿Cadete?\")\n",
    "anwser = input(\"respuesta\")\n",
    "print ( \"Viajero -\" + anwser)\n",
    "print (\" Oficial superior - ¿Puedes construir un programa que me muestre la fecha? La computadora del barco no venía con mucho en términos de programas de utilidad, por lo que necesitamos crear los que necesitamos.\")\n",
    "print (\"¿Puedo confiar en ti con esto?\")\n",
    "anwser2 = input(\"respuesta\")\n",
    "print ( \"Viajero -\" + anwser2)\n",
    "print (\" Oficial superior - Excelente \")\n",
    "print (\"Viajero - La fecha de hoy es:\" + str(date.today()))\n",
    "print (\"Oficial Superior - Necesito una cosa más: un programa de conversión entre parsecs y años luz. Tener un programa de este tipo podría ser realmente útil en el puente para trazar nuestro curso\")\n",
    "print (\"Viajer - ¿Desea probar el programa ahora?\" )\n",
    "print (\"Oficial Superior - Claro!, convierte 14 parsecs a años luz\")\n",
    "parsec = 14\n",
    "lightyears = 3.26156 * parsec\n",
    "print(\"Viajero - \" + str(parsec) + \" parsec, son: \" + str(lightyears) + \" Lightyears\")\n"
   ]
  }
 ],
 "metadata": {
  "interpreter": {
   "hash": "29aa2e3870ee18aa22cea007223e40c1750657aa2080b346bd1fdd7111f60709"
  },
  "kernelspec": {
   "display_name": "Python 3.9.10 64-bit (windows store)",
   "language": "python",
   "name": "python3"
  },
  "language_info": {
   "codemirror_mode": {
    "name": "ipython",
    "version": 3
   },
   "file_extension": ".py",
   "mimetype": "text/x-python",
   "name": "python",
   "nbconvert_exporter": "python",
   "pygments_lexer": "ipython3",
   "version": "3.9.10"
  },
  "orig_nbformat": 4
 },
 "nbformat": 4,
 "nbformat_minor": 2
}
